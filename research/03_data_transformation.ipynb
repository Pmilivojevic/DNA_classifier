{
 "cells": [
  {
   "cell_type": "code",
   "execution_count": 1,
   "metadata": {},
   "outputs": [
    {
     "data": {
      "text/plain": [
       "'/mnt/cb03386d-9344-47b1-82f9-868fbb64b4ae/python_projects/DNA_classifier/research'"
      ]
     },
     "execution_count": 1,
     "metadata": {},
     "output_type": "execute_result"
    }
   ],
   "source": [
    "import os\n",
    "%pwd"
   ]
  },
  {
   "cell_type": "code",
   "execution_count": 2,
   "metadata": {},
   "outputs": [
    {
     "data": {
      "text/plain": [
       "'/mnt/cb03386d-9344-47b1-82f9-868fbb64b4ae/python_projects/DNA_classifier'"
      ]
     },
     "execution_count": 2,
     "metadata": {},
     "output_type": "execute_result"
    }
   ],
   "source": [
    "os.chdir(\"../\")\n",
    "%pwd"
   ]
  },
  {
   "cell_type": "code",
   "execution_count": 3,
   "metadata": {},
   "outputs": [],
   "source": [
    "from dataclasses import dataclass\n",
    "from pathlib import Path\n",
    "\n",
    "@dataclass(frozen=True)\n",
    "class DataTransformationConfig:\n",
    "    root_dir: Path\n",
    "    data_path: Path\n",
    "    ngram: int"
   ]
  },
  {
   "cell_type": "code",
   "execution_count": 4,
   "metadata": {},
   "outputs": [],
   "source": [
    "from dnaseq.constants import *\n",
    "from dnaseq.utils.common import read_yaml, create_directories\n",
    "\n",
    "class ConfigurationManager:\n",
    "    def __init__(\n",
    "        self,\n",
    "        config_file_path = CONFIG_FILE_PATH,\n",
    "        params_file_path = PARAMS_FILE_PATH,\n",
    "        schema_file_path = SCHEMA_FILE_PATH\n",
    "    ):\n",
    "        self.config = read_yaml(config_file_path)\n",
    "        self.params = read_yaml(params_file_path)\n",
    "        self.schema = read_yaml(schema_file_path)\n",
    "        \n",
    "        create_directories([self.config.artifacts_root])\n",
    "        \n",
    "    def get_data_tranformation_config(self) -> DataTransformationConfig:\n",
    "        config = self.config.data_transformation\n",
    "        params = self.params.count_vectorizer\n",
    "        \n",
    "        create_directories([config.root_dir])\n",
    "        \n",
    "        data_transformation_config = DataTransformationConfig(\n",
    "            root_dir=config.root_dir,\n",
    "            data_path=config.data_path,\n",
    "            ngram=params.ngram\n",
    "        )\n",
    "        \n",
    "        return data_transformation_config"
   ]
  },
  {
   "cell_type": "code",
   "execution_count": 7,
   "metadata": {},
   "outputs": [],
   "source": [
    "import os\n",
    "import pandas as pd\n",
    "from sklearn.model_selection import train_test_split\n",
    "from sklearn.feature_extraction.text import CountVectorizer\n",
    "from sentence_transformers import SentenceTransformer\n",
    "import scipy as sp\n",
    "from dnaseq import logger\n",
    "\n",
    "class DataTransformation:\n",
    "    def __init__(self, config: DataTransformationConfig):\n",
    "        self.config = config\n",
    "\n",
    "    def transform_data(self):\n",
    "        def getKmers(sequence, size=6):\n",
    "            return [sequence[x:x+size].lower() for x in range(len(sequence) - size + 1)]\n",
    "        \n",
    "        data = pd.read_table(self.config.data_path)\n",
    "        data['kmers'] = data.apply(lambda x: getKmers(x['sequence']), axis=1)\n",
    "        data = data.drop('sequence', axis=1)\n",
    "        \n",
    "        X_data = list(data['kmers'])\n",
    "        for item in range(len(X_data)):\n",
    "            X_data[item] = ' '.join(X_data[item])\n",
    "            \n",
    "        y_data = data.iloc[:, 0].values\n",
    "        \n",
    "        ngram_range = self.config.ngram, self.config.ngram\n",
    "        cv = CountVectorizer(ngram_range=ngram_range)\n",
    "        X_data_cv = cv.fit_transform(X_data)\n",
    "        logger.info(\"Transformed train data with CoountVectorizer\")\n",
    "        logger.info(X_data_cv.shape)\n",
    "        logger.info(type(X_data_cv))\n",
    "        \n",
    "        model = SentenceTransformer('all-MiniLM-L6-v2')\n",
    "        X_data_emb = model.encode(X_data)\n",
    "        logger.info(\"Transformed train data with SentenceTransformer\")\n",
    "        logger.info(X_data_emb.shape)\n",
    "        logger.info(type(X_data_emb))\n",
    "        \n",
    "        return X_data_cv, X_data_emb, y_data\n",
    "    \n",
    "    def train_test_spliting(self, x_cv, x_emb, y):\n",
    "        X_train_cv, X_test_cv, y_train, y_test = train_test_split(\n",
    "            x_cv,\n",
    "            y,\n",
    "            test_size = 0.20,\n",
    "            random_state=42\n",
    "        )\n",
    "        \n",
    "        X_train_emb, X_test_emb, y_train, y_test = train_test_split(\n",
    "            x_emb,\n",
    "            y,\n",
    "            test_size = 0.20,\n",
    "            random_state=42\n",
    "        )\n",
    "        \n",
    "        sp.sparse.save_npz(os.path.join(self.config.root_dir, 'X_train_cv.npz'), X_train_cv)\n",
    "        sp.sparse.save_npz(os.path.join(self.config.root_dir,'X_test_cv.npz'), X_test_cv)\n",
    "        pd.DataFrame(X_train_emb).to_csv(os.path.join(self.config.root_dir, \"X_train_emb.csv\"), index=False)\n",
    "        pd.DataFrame(X_test_emb).to_csv(os.path.join(self.config.root_dir, \"X_test_emb.csv\"), index=False)\n",
    "        pd.DataFrame(y_train).to_csv(os.path.join(self.config.root_dir, \"y_train.csv\"), index=False)\n",
    "        pd.DataFrame(y_test).to_csv(os.path.join(self.config.root_dir, \"y_test.csv\"), index=False)\n",
    "        \n",
    "        logger.info(\"Splited data into training and test sets\")"
   ]
  },
  {
   "cell_type": "code",
   "execution_count": 8,
   "metadata": {},
   "outputs": [
    {
     "name": "stdout",
     "output_type": "stream",
     "text": [
      "[2024-03-29 01:42:48,644: INFO: common: yaml file: config/config.yaml loaded successfully]\n",
      "[2024-03-29 01:42:48,658: INFO: common: yaml file: params.yaml loaded successfully]\n",
      "[2024-03-29 01:42:48,660: INFO: common: yaml file: schema.yaml loaded successfully]\n",
      "[2024-03-29 01:42:48,662: INFO: common: created directory at: artifacts]\n",
      "[2024-03-29 01:42:48,663: INFO: common: created directory at: artifacts/data_transformation]\n",
      "[2024-03-29 01:42:57,559: INFO: 2054095053: Transformed train data with CoountVectorizer]\n",
      "[2024-03-29 01:42:57,563: INFO: 2054095053: (4380, 602855)]\n",
      "[2024-03-29 01:42:57,564: INFO: 2054095053: <class 'scipy.sparse._csr.csr_matrix'>]\n",
      "[2024-03-29 01:42:57,565: INFO: SentenceTransformer: Load pretrained SentenceTransformer: all-MiniLM-L6-v2]\n",
      "[2024-03-29 01:42:59,648: INFO: SentenceTransformer: Use pytorch device_name: cuda]\n"
     ]
    },
    {
     "data": {
      "application/vnd.jupyter.widget-view+json": {
       "model_id": "3acb09435fbd4d7db33e9a53f8eb2b69",
       "version_major": 2,
       "version_minor": 0
      },
      "text/plain": [
       "Batches:   0%|          | 0/137 [00:00<?, ?it/s]"
      ]
     },
     "metadata": {},
     "output_type": "display_data"
    },
    {
     "name": "stdout",
     "output_type": "stream",
     "text": [
      "[2024-03-29 01:43:28,341: INFO: 2054095053: Transformed train data with SentenceTransformer]\n",
      "[2024-03-29 01:43:28,344: INFO: 2054095053: (4380, 384)]\n",
      "[2024-03-29 01:43:28,345: INFO: 2054095053: <class 'numpy.ndarray'>]\n",
      "[2024-03-29 01:43:31,797: INFO: 2054095053: Splited data into training and test sets]\n"
     ]
    }
   ],
   "source": [
    "try:\n",
    "    config = ConfigurationManager()\n",
    "    data_transformation_config = config.get_data_tranformation_config()\n",
    "    data_transformation = DataTransformation(config=data_transformation_config)\n",
    "    x_cv, x_emb, y = data_transformation.transform_data()\n",
    "    data_transformation.train_test_spliting(x_cv, x_emb, y)\n",
    "\n",
    "except Exception as e:\n",
    "    raise e"
   ]
  },
  {
   "cell_type": "code",
   "execution_count": null,
   "metadata": {},
   "outputs": [],
   "source": []
  }
 ],
 "metadata": {
  "kernelspec": {
   "display_name": "venv",
   "language": "python",
   "name": "python3"
  },
  "language_info": {
   "codemirror_mode": {
    "name": "ipython",
    "version": 3
   },
   "file_extension": ".py",
   "mimetype": "text/x-python",
   "name": "python",
   "nbconvert_exporter": "python",
   "pygments_lexer": "ipython3",
   "version": "3.10.12"
  }
 },
 "nbformat": 4,
 "nbformat_minor": 2
}
